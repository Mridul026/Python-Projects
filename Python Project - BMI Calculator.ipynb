{
 "cells": [
  {
   "cell_type": "markdown",
   "id": "214a8643",
   "metadata": {},
   "source": []
  },
  {
   "cell_type": "code",
   "execution_count": 4,
   "id": "53b1a9dc",
   "metadata": {},
   "outputs": [
    {
     "name": "stdout",
     "output_type": "stream",
     "text": [
      "Enter your name: Mridul\n",
      "Enter your Weight in Kg: 66\n",
      "Enter your Height in meters: 1.8\n",
      "20.37037037037037\n",
      "Mridul, you have normal weight.\n"
     ]
    }
   ],
   "source": [
    "name = input(\"Enter your name: \")\n",
    "weight = int(input(\"Enter your Weight in Kg: \"))\n",
    "height = float(input(\"Enter your Height in meters: \"))\n",
    "BMI = weight/(height * height)\n",
    "print(BMI)\n",
    "\n",
    "if (BMI<18.5):\n",
    "    print(name + \", you are underweight.\")\n",
    "elif (BMI<=24.9):\n",
    "    print(name + \", you have normal weight.\")\n",
    "elif (BMI<=29.9):\n",
    "    print(name + \", you are overweight.\")\n",
    "elif (BMI<=34.9):\n",
    "    print(name + \", you are obese.\")\n",
    "elif (BMI<=39.9):\n",
    "    print(name + \", you are severly obese.\")\n",
    "elif (BMI>=40):\n",
    "    print(name + \", you are morbidly Obese.\")\n",
    "else:\n",
    "    print(\"Enter a valid input.\")"
   ]
  },
  {
   "cell_type": "code",
   "execution_count": null,
   "id": "5d250fa7",
   "metadata": {},
   "outputs": [],
   "source": []
  },
  {
   "cell_type": "code",
   "execution_count": null,
   "id": "6aa92564",
   "metadata": {},
   "outputs": [],
   "source": [
    "#BMI = (weight in kg ) / (height in metres x height in metres)"
   ]
  },
  {
   "cell_type": "code",
   "execution_count": null,
   "id": "84934d02",
   "metadata": {},
   "outputs": [],
   "source": [
    "Under 18.5\tUnderweight\tMinimal\n",
    "18.5 - 24.9\tNormal Weight\tMinimal\n",
    "25 - 29.9\tOverweight\tIncreased\n",
    "30 - 34.9\tObese\tHigh\n",
    "35 - 39.9\tSeverely Obese\tVery High\n",
    "40 and over\tMorbidly Obese\tExtremely High"
   ]
  },
  {
   "cell_type": "code",
   "execution_count": null,
   "id": "58992ed6",
   "metadata": {},
   "outputs": [],
   "source": []
  },
  {
   "cell_type": "code",
   "execution_count": null,
   "id": "1f41c221",
   "metadata": {},
   "outputs": [],
   "source": []
  }
 ],
 "metadata": {
  "kernelspec": {
   "display_name": "Python 3 (ipykernel)",
   "language": "python",
   "name": "python3"
  },
  "language_info": {
   "codemirror_mode": {
    "name": "ipython",
    "version": 3
   },
   "file_extension": ".py",
   "mimetype": "text/x-python",
   "name": "python",
   "nbconvert_exporter": "python",
   "pygments_lexer": "ipython3",
   "version": "3.11.7"
  }
 },
 "nbformat": 4,
 "nbformat_minor": 5
}
